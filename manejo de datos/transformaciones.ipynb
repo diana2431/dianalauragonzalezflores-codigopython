{
 "cells": [
  {
   "cell_type": "code",
   "execution_count": 1,
   "id": "b0fd0a8b",
   "metadata": {},
   "outputs": [
    {
     "data": {
      "text/plain": [
       "array([[19, 88,  9, 95],\n",
       "       [97, 82, 13, 44],\n",
       "       [89, 82,  0, 25]])"
      ]
     },
     "execution_count": 1,
     "metadata": {},
     "output_type": "execute_result"
    }
   ],
   "source": [
    "import numpy as np \n",
    "\n",
    "arr_ent = np.random.randint(100, size=(3,4))\n",
    "arr_ent"
   ]
  },
  {
   "cell_type": "code",
   "execution_count": 2,
   "id": "99f7951c",
   "metadata": {},
   "outputs": [
    {
     "data": {
      "text/plain": [
       "array([[19., 88.,  9., 95.],\n",
       "       [97., 82., 13., 44.],\n",
       "       [89., 82.,  0., 25.]])"
      ]
     },
     "execution_count": 2,
     "metadata": {},
     "output_type": "execute_result"
    }
   ],
   "source": [
    "arr_ent.astype(float)"
   ]
  },
  {
   "cell_type": "code",
   "execution_count": 3,
   "id": "cdb05286",
   "metadata": {},
   "outputs": [
    {
     "data": {
      "text/plain": [
       "array([[19, 88,  9, 95],\n",
       "       [97, 82, 13, 44],\n",
       "       [89, 82,  0, 25]])"
      ]
     },
     "execution_count": 3,
     "metadata": {},
     "output_type": "execute_result"
    }
   ],
   "source": [
    "arr_ent"
   ]
  },
  {
   "cell_type": "code",
   "execution_count": 4,
   "id": "93f71f8a",
   "metadata": {},
   "outputs": [
    {
     "data": {
      "text/plain": [
       "array([[ 9, 19, 88, 95],\n",
       "       [13, 44, 82, 97],\n",
       "       [ 0, 25, 82, 89]])"
      ]
     },
     "execution_count": 4,
     "metadata": {},
     "output_type": "execute_result"
    }
   ],
   "source": [
    "arr_ent.sort()\n",
    "arr_ent"
   ]
  },
  {
   "cell_type": "code",
   "execution_count": 5,
   "id": "761a2e69",
   "metadata": {},
   "outputs": [
    {
     "data": {
      "text/plain": [
       "array([[ 0, 19, 82, 89],\n",
       "       [ 9, 25, 82, 95],\n",
       "       [13, 44, 88, 97]])"
      ]
     },
     "execution_count": 5,
     "metadata": {},
     "output_type": "execute_result"
    }
   ],
   "source": [
    "arr_ent.sort(axis=0)\n",
    "arr_ent"
   ]
  },
  {
   "cell_type": "code",
   "execution_count": 6,
   "id": "596a2cfb",
   "metadata": {},
   "outputs": [
    {
     "data": {
      "text/plain": [
       "array([[ 0, 19, 82],\n",
       "       [89,  9, 25],\n",
       "       [82, 95, 13],\n",
       "       [44, 88, 97]])"
      ]
     },
     "execution_count": 6,
     "metadata": {},
     "output_type": "execute_result"
    }
   ],
   "source": [
    "arr_ent = arr_ent.reshape(4,3)\n",
    "arr_ent"
   ]
  },
  {
   "cell_type": "code",
   "execution_count": 7,
   "id": "c5eb4cdb",
   "metadata": {},
   "outputs": [
    {
     "name": "stdout",
     "output_type": "stream",
     "text": [
      "[[ 0 19 82]\n",
      " [89  9 25]\n",
      " [82 95 13]\n",
      " [44 88 97]]\n",
      "[ 0 19 82 89  9 25 82 95 13 44 88 97]\n"
     ]
    }
   ],
   "source": [
    "plano_arr = arr_ent.flatten()\n",
    "\n",
    "print(arr_ent)\n",
    "print(plano_arr)"
   ]
  },
  {
   "cell_type": "code",
   "execution_count": 8,
   "id": "d534f8ae",
   "metadata": {},
   "outputs": [
    {
     "data": {
      "text/plain": [
       "[0, 19, 82, 89, 9, 25, 82, 95, 13, 44, 88, 97]"
      ]
     },
     "execution_count": 8,
     "metadata": {},
     "output_type": "execute_result"
    }
   ],
   "source": [
    "lista_arr = plano_arr.tolist()\n",
    "lista_arr"
   ]
  },
  {
   "cell_type": "code",
   "execution_count": 9,
   "id": "9461b6e2",
   "metadata": {},
   "outputs": [
    {
     "data": {
      "text/plain": [
       "[array([[ 0, 19, 82]]),\n",
       " array([[89,  9, 25]]),\n",
       " array([[82, 95, 13]]),\n",
       " array([[44, 88, 97]])]"
      ]
     },
     "execution_count": 9,
     "metadata": {},
     "output_type": "execute_result"
    }
   ],
   "source": [
    "arrays = np.split(arr_ent, 4)\n",
    "arrays"
   ]
  },
  {
   "cell_type": "code",
   "execution_count": 12,
   "id": "eb5500a9",
   "metadata": {},
   "outputs": [
    {
     "data": {
      "text/plain": [
       "array([[89,  9, 25,  0, 19, 82]])"
      ]
     },
     "execution_count": 12,
     "metadata": {},
     "output_type": "execute_result"
    }
   ],
   "source": [
    "np.concatenate((arrays[1], arrays[0]), axis=1)"
   ]
  },
  {
   "cell_type": "code",
   "execution_count": 11,
   "id": "cfec6247",
   "metadata": {},
   "outputs": [
    {
     "data": {
      "text/plain": [
       "array([[ 0, 89, 82, 44],\n",
       "       [19,  9, 95, 88],\n",
       "       [82, 25, 13, 97]])"
      ]
     },
     "execution_count": 11,
     "metadata": {},
     "output_type": "execute_result"
    }
   ],
   "source": [
    "t_arr = arr_ent.T\n",
    "t_arr"
   ]
  },
  {
   "cell_type": "code",
   "execution_count": null,
   "id": "d25f5930",
   "metadata": {},
   "outputs": [],
   "source": []
  }
 ],
 "metadata": {
  "kernelspec": {
   "display_name": "Python 3",
   "language": "python",
   "name": "python3"
  },
  "language_info": {
   "codemirror_mode": {
    "name": "ipython",
    "version": 3
   },
   "file_extension": ".py",
   "mimetype": "text/x-python",
   "name": "python",
   "nbconvert_exporter": "python",
   "pygments_lexer": "ipython3",
   "version": "3.8.8"
  }
 },
 "nbformat": 4,
 "nbformat_minor": 5
}
