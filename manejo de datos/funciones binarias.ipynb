{
 "cells": [
  {
   "cell_type": "code",
   "execution_count": 1,
   "id": "80b85e15",
   "metadata": {},
   "outputs": [],
   "source": [
    "import numpy as np\n",
    "\n",
    "arr = np.array([5,36,17,18,9])\n",
    "\n",
    "arr_2 = np.array([8,24,17,19,9])"
   ]
  },
  {
   "cell_type": "code",
   "execution_count": 2,
   "id": "08389aa3",
   "metadata": {},
   "outputs": [
    {
     "data": {
      "text/plain": [
       "array([13, 60, 34, 37, 18])"
      ]
     },
     "execution_count": 2,
     "metadata": {},
     "output_type": "execute_result"
    }
   ],
   "source": [
    "np.add(arr, arr_2)"
   ]
  },
  {
   "cell_type": "code",
   "execution_count": 5,
   "id": "1c39836a",
   "metadata": {},
   "outputs": [
    {
     "data": {
      "text/plain": [
       "array([-3, 12,  0, -1,  0])"
      ]
     },
     "execution_count": 5,
     "metadata": {},
     "output_type": "execute_result"
    }
   ],
   "source": [
    "np.subtract(arr, arr_2)"
   ]
  },
  {
   "cell_type": "code",
   "execution_count": 6,
   "id": "7280b745",
   "metadata": {},
   "outputs": [
    {
     "data": {
      "text/plain": [
       "array([ 40, 864, 289, 342,  81])"
      ]
     },
     "execution_count": 6,
     "metadata": {},
     "output_type": "execute_result"
    }
   ],
   "source": [
    "np.multiply(arr, arr_2)"
   ]
  },
  {
   "cell_type": "code",
   "execution_count": 7,
   "id": "13fa6a2c",
   "metadata": {},
   "outputs": [
    {
     "data": {
      "text/plain": [
       "array([0.625     , 1.5       , 1.        , 0.94736842, 1.        ])"
      ]
     },
     "execution_count": 7,
     "metadata": {},
     "output_type": "execute_result"
    }
   ],
   "source": [
    "np.divide(arr, arr_2)"
   ]
  },
  {
   "cell_type": "code",
   "execution_count": 8,
   "id": "aafa6a76",
   "metadata": {},
   "outputs": [
    {
     "data": {
      "text/plain": [
       "False"
      ]
     },
     "execution_count": 8,
     "metadata": {},
     "output_type": "execute_result"
    }
   ],
   "source": [
    "np.array_equal(arr, arr_2)"
   ]
  },
  {
   "cell_type": "code",
   "execution_count": 9,
   "id": "e394d3d2",
   "metadata": {},
   "outputs": [
    {
     "data": {
      "text/plain": [
       "array([ 5, 24, 17, 18,  9])"
      ]
     },
     "execution_count": 9,
     "metadata": {},
     "output_type": "execute_result"
    }
   ],
   "source": [
    "np.fmin(arr, arr_2)"
   ]
  },
  {
   "cell_type": "code",
   "execution_count": 10,
   "id": "c7fda9e9",
   "metadata": {},
   "outputs": [
    {
     "data": {
      "text/plain": [
       "array([ 8, 36, 17, 19,  9])"
      ]
     },
     "execution_count": 10,
     "metadata": {},
     "output_type": "execute_result"
    }
   ],
   "source": [
    "np.fmax(arr, arr_2)"
   ]
  },
  {
   "cell_type": "code",
   "execution_count": null,
   "id": "a96bea6d",
   "metadata": {},
   "outputs": [],
   "source": []
  }
 ],
 "metadata": {
  "kernelspec": {
   "display_name": "Python 3",
   "language": "python",
   "name": "python3"
  },
  "language_info": {
   "codemirror_mode": {
    "name": "ipython",
    "version": 3
   },
   "file_extension": ".py",
   "mimetype": "text/x-python",
   "name": "python",
   "nbconvert_exporter": "python",
   "pygments_lexer": "ipython3",
   "version": "3.8.8"
  }
 },
 "nbformat": 4,
 "nbformat_minor": 5
}
